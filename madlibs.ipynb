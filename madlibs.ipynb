{
 "cells": [
  {
   "cell_type": "code",
   "execution_count": null,
   "metadata": {},
   "outputs": [],
   "source": [
    "adj = input(\"Your Name?: \")\n",
    "verb1 = input(\"Nickname?: \")\n",
    "verb2 = input(\"Your Hobby?: \")\n",
    "verb3 = input(\"Something weired about you?: \")\n",
    "\n",
    "\n",
    "madlib = f\"Here is a little fun fact you should know about me. My name is {adj}! Although I love to be called {verb1}. During my free time, I love to {verb2} . But when I am in my playful mood, I will find me {verb3}!\"\n",
    "\n",
    "print(madlib)"
   ]
  },
  {
   "cell_type": "code",
   "execution_count": null,
   "metadata": {},
   "outputs": [],
   "source": []
  }
 ],
 "metadata": {
  "kernelspec": {
   "display_name": "Python 3",
   "language": "python",
   "name": "python3"
  },
  "language_info": {
   "codemirror_mode": {
    "name": "ipython",
    "version": 3
   },
   "file_extension": ".py",
   "mimetype": "text/x-python",
   "name": "python",
   "nbconvert_exporter": "python",
   "pygments_lexer": "ipython3",
   "version": "3.8.3"
  }
 },
 "nbformat": 4,
 "nbformat_minor": 4
}
