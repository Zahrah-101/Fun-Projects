{
 "cells": [
  {
   "cell_type": "code",
   "execution_count": 1,
   "metadata": {},
   "outputs": [],
   "source": [
    "import random"
   ]
  },
  {
   "cell_type": "code",
   "execution_count": 2,
   "metadata": {},
   "outputs": [],
   "source": [
    "def play():\n",
    "    user = input(\"What is your choice? 'r' for rock, 'p' for paper, 's' for scissors\")\n",
    "    computer = random.choice(['r','p', 's'])\n",
    "    \n",
    "    if user == computer:\n",
    "        return 'It\\'s a tie'\n",
    "    \n",
    "    if is_win(user, computer):\n",
    "        return 'You won!'\n",
    "    \n",
    "    return 'You lost!'"
   ]
  },
  {
   "cell_type": "code",
   "execution_count": 7,
   "metadata": {},
   "outputs": [
    {
     "name": "stdout",
     "output_type": "stream",
     "text": [
      "'r' for rock, 'p' for paper, 's' for scissorsp\n",
      "You won!\n"
     ]
    }
   ],
   "source": [
    "def is_win(player, opponent):\n",
    "    #return true if player wins\n",
    "    \n",
    "    if (player == 'r' and opponent == 's') or (player == 's' and opponent == 'p') or (player == 'p' and opponent == 'r'):\n",
    "        return True\n",
    "    \n",
    "    \n",
    "print(play())"
   ]
  },
  {
   "cell_type": "code",
   "execution_count": null,
   "metadata": {},
   "outputs": [],
   "source": []
  }
 ],
 "metadata": {
  "kernelspec": {
   "display_name": "Python 3",
   "language": "python",
   "name": "python3"
  },
  "language_info": {
   "codemirror_mode": {
    "name": "ipython",
    "version": 3
   },
   "file_extension": ".py",
   "mimetype": "text/x-python",
   "name": "python",
   "nbconvert_exporter": "python",
   "pygments_lexer": "ipython3",
   "version": "3.8.3"
  }
 },
 "nbformat": 4,
 "nbformat_minor": 4
}
