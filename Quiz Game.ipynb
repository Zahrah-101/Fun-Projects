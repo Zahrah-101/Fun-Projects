{
 "cells": [
  {
   "cell_type": "code",
   "execution_count": 4,
   "metadata": {},
   "outputs": [],
   "source": [
    "import random"
   ]
  },
  {
   "cell_type": "code",
   "execution_count": 8,
   "metadata": {},
   "outputs": [
    {
     "name": "stdout",
     "output_type": "stream",
     "text": [
      "Guess a number between 1 and 10: 5\n",
      "Sorry dear, guess again. Your input is too low.\n",
      "Guess a number between 1 and 10: 6\n",
      "Sorry dear, guess again. Your input is too low.\n",
      "Guess a number between 1 and 10: 7\n",
      "Sorry dear, guess again. Your input is too low.\n",
      "Guess a number between 1 and 10: 9\n",
      "Sorry dear, guess again. Your input is too high.\n",
      "Guess a number between 1 and 10: 8\n",
      "Yay! You have guessed 8 correctly!!!\n"
     ]
    }
   ],
   "source": [
    "def guess(x):\n",
    "    random_number = random.randint(1, x)\n",
    "    guess = 0\n",
    "    while guess != random_number:\n",
    "        guess = int(input(f'Guess a number between 1 and {x}: '))\n",
    "        if guess < random_number:\n",
    "            print('Sorry dear, guess again. Your input is too low.')\n",
    "        elif guess > random_number:\n",
    "            print('Sorry dear, guess again. Your input is too high.')\n",
    "        \n",
    "    print(f'Yay! You have guessed {random_number} correctly!!!')\n",
    "\n",
    "        \n",
    "guess(10) "
   ]
  },
  {
   "cell_type": "code",
   "execution_count": 7,
   "metadata": {},
   "outputs": [
    {
     "name": "stdout",
     "output_type": "stream",
     "text": [
      "Guess a number between 1 and 10: 5\n",
      "Sorry dear, guess again. Your input is too low.\n",
      "Guess a number between 1 and 10: 7\n",
      "Sorry dear, guess again. Your input is too high.\n",
      "Guess a number between 1 and 10: 6\n",
      "Yay! You have guessed 6 correctly!!!\n"
     ]
    }
   ],
   "source": [
    "def computer_guess(x):\n",
    "    low = 1\n",
    "    high = x\n",
    "    feedback = ''\n",
    "    while feedback != 'c':\n",
    "        if low != high:\n",
    "            guess = random.randint(low, high)\n",
    "        else:\n",
    "            guess = low \n",
    "        feedback = input(f'Is {guess} too high(H), too low (L), or correct (c)?? ').lower()\n",
    "        if feedback == 'h':\n",
    "            high = guess - 1\n",
    "        elif feedback == 'l':\n",
    "            low = guess + 1\n",
    "                         \n",
    "    print(f'Hurray! The computer guessed your number, {guess}, correctly!')\n",
    "        \n",
    "guess(10) "
   ]
  },
  {
   "cell_type": "code",
   "execution_count": null,
   "metadata": {},
   "outputs": [],
   "source": []
  }
 ],
 "metadata": {
  "kernelspec": {
   "display_name": "Python 3",
   "language": "python",
   "name": "python3"
  },
  "language_info": {
   "codemirror_mode": {
    "name": "ipython",
    "version": 3
   },
   "file_extension": ".py",
   "mimetype": "text/x-python",
   "name": "python",
   "nbconvert_exporter": "python",
   "pygments_lexer": "ipython3",
   "version": "3.8.3"
  }
 },
 "nbformat": 4,
 "nbformat_minor": 4
}
